{
 "cells": [
  {
   "cell_type": "code",
   "execution_count": 125,
   "metadata": {},
   "outputs": [],
   "source": [
    "import pandas as pd\n",
    "from pandas import DataFrame\n",
    "from pandas import concat"
   ]
  },
  {
   "cell_type": "code",
   "execution_count": 126,
   "metadata": {},
   "outputs": [],
   "source": [
    "data = pd.read_csv(\"D:/MSCS/ML/Research_Work/parking_dataset/parksData.csv\", index_col='LastUpdated')"
   ]
  },
  {
   "cell_type": "code",
   "execution_count": 127,
   "metadata": {},
   "outputs": [
    {
     "data": {
      "text/html": [
       "<div>\n",
       "<style scoped>\n",
       "    .dataframe tbody tr th:only-of-type {\n",
       "        vertical-align: middle;\n",
       "    }\n",
       "\n",
       "    .dataframe tbody tr th {\n",
       "        vertical-align: top;\n",
       "    }\n",
       "\n",
       "    .dataframe thead th {\n",
       "        text-align: right;\n",
       "    }\n",
       "</style>\n",
       "<table border=\"1\" class=\"dataframe\">\n",
       "  <thead>\n",
       "    <tr style=\"text-align: right;\">\n",
       "      <th></th>\n",
       "      <th>SystemCodeNumber</th>\n",
       "      <th>Capacity</th>\n",
       "      <th>Occupancy</th>\n",
       "      <th>OccupancyRate</th>\n",
       "      <th>AvailabilityRate</th>\n",
       "    </tr>\n",
       "    <tr>\n",
       "      <th>LastUpdated</th>\n",
       "      <th></th>\n",
       "      <th></th>\n",
       "      <th></th>\n",
       "      <th></th>\n",
       "      <th></th>\n",
       "    </tr>\n",
       "  </thead>\n",
       "  <tbody>\n",
       "    <tr>\n",
       "      <th>10/4/2016 7:59</th>\n",
       "      <td>BHMBCCMKT01</td>\n",
       "      <td>577</td>\n",
       "      <td>61</td>\n",
       "      <td>0.894281</td>\n",
       "      <td>0.105719</td>\n",
       "    </tr>\n",
       "    <tr>\n",
       "      <th>10/4/2016 8:25</th>\n",
       "      <td>BHMBCCMKT01</td>\n",
       "      <td>577</td>\n",
       "      <td>64</td>\n",
       "      <td>0.889081</td>\n",
       "      <td>0.110919</td>\n",
       "    </tr>\n",
       "    <tr>\n",
       "      <th>10/4/2016 8:59</th>\n",
       "      <td>BHMBCCMKT01</td>\n",
       "      <td>577</td>\n",
       "      <td>80</td>\n",
       "      <td>0.861352</td>\n",
       "      <td>0.138648</td>\n",
       "    </tr>\n",
       "    <tr>\n",
       "      <th>10/4/2016 9:32</th>\n",
       "      <td>BHMBCCMKT01</td>\n",
       "      <td>577</td>\n",
       "      <td>107</td>\n",
       "      <td>0.814558</td>\n",
       "      <td>0.185442</td>\n",
       "    </tr>\n",
       "    <tr>\n",
       "      <th>10/4/2016 9:59</th>\n",
       "      <td>BHMBCCMKT01</td>\n",
       "      <td>577</td>\n",
       "      <td>150</td>\n",
       "      <td>0.740035</td>\n",
       "      <td>0.259965</td>\n",
       "    </tr>\n",
       "  </tbody>\n",
       "</table>\n",
       "</div>"
      ],
      "text/plain": [
       "               SystemCodeNumber  Capacity  Occupancy  OccupancyRate  \\\n",
       "LastUpdated                                                           \n",
       "10/4/2016 7:59      BHMBCCMKT01       577         61       0.894281   \n",
       "10/4/2016 8:25      BHMBCCMKT01       577         64       0.889081   \n",
       "10/4/2016 8:59      BHMBCCMKT01       577         80       0.861352   \n",
       "10/4/2016 9:32      BHMBCCMKT01       577        107       0.814558   \n",
       "10/4/2016 9:59      BHMBCCMKT01       577        150       0.740035   \n",
       "\n",
       "                AvailabilityRate  \n",
       "LastUpdated                       \n",
       "10/4/2016 7:59          0.105719  \n",
       "10/4/2016 8:25          0.110919  \n",
       "10/4/2016 8:59          0.138648  \n",
       "10/4/2016 9:32          0.185442  \n",
       "10/4/2016 9:59          0.259965  "
      ]
     },
     "execution_count": 127,
     "metadata": {},
     "output_type": "execute_result"
    }
   ],
   "source": [
    "data.head()"
   ]
  },
  {
   "cell_type": "code",
   "execution_count": 128,
   "metadata": {},
   "outputs": [],
   "source": [
    "from sklearn.preprocessing import LabelEncoder\n",
    "number = LabelEncoder()\n",
    "data['SystemCodeNumber'] = number.fit_transform(data['SystemCodeNumber'].astype('str'))"
   ]
  },
  {
   "cell_type": "code",
   "execution_count": 129,
   "metadata": {},
   "outputs": [
    {
     "data": {
      "text/html": [
       "<div>\n",
       "<style scoped>\n",
       "    .dataframe tbody tr th:only-of-type {\n",
       "        vertical-align: middle;\n",
       "    }\n",
       "\n",
       "    .dataframe tbody tr th {\n",
       "        vertical-align: top;\n",
       "    }\n",
       "\n",
       "    .dataframe thead th {\n",
       "        text-align: right;\n",
       "    }\n",
       "</style>\n",
       "<table border=\"1\" class=\"dataframe\">\n",
       "  <thead>\n",
       "    <tr style=\"text-align: right;\">\n",
       "      <th></th>\n",
       "      <th>SystemCodeNumber</th>\n",
       "      <th>Capacity</th>\n",
       "      <th>Occupancy</th>\n",
       "      <th>OccupancyRate</th>\n",
       "      <th>AvailabilityRate</th>\n",
       "    </tr>\n",
       "    <tr>\n",
       "      <th>LastUpdated</th>\n",
       "      <th></th>\n",
       "      <th></th>\n",
       "      <th></th>\n",
       "      <th></th>\n",
       "      <th></th>\n",
       "    </tr>\n",
       "  </thead>\n",
       "  <tbody>\n",
       "    <tr>\n",
       "      <th>10/4/2016 7:59</th>\n",
       "      <td>0</td>\n",
       "      <td>577</td>\n",
       "      <td>61</td>\n",
       "      <td>0.894281</td>\n",
       "      <td>0.105719</td>\n",
       "    </tr>\n",
       "    <tr>\n",
       "      <th>10/4/2016 8:25</th>\n",
       "      <td>0</td>\n",
       "      <td>577</td>\n",
       "      <td>64</td>\n",
       "      <td>0.889081</td>\n",
       "      <td>0.110919</td>\n",
       "    </tr>\n",
       "    <tr>\n",
       "      <th>10/4/2016 8:59</th>\n",
       "      <td>0</td>\n",
       "      <td>577</td>\n",
       "      <td>80</td>\n",
       "      <td>0.861352</td>\n",
       "      <td>0.138648</td>\n",
       "    </tr>\n",
       "    <tr>\n",
       "      <th>10/4/2016 9:32</th>\n",
       "      <td>0</td>\n",
       "      <td>577</td>\n",
       "      <td>107</td>\n",
       "      <td>0.814558</td>\n",
       "      <td>0.185442</td>\n",
       "    </tr>\n",
       "    <tr>\n",
       "      <th>10/4/2016 9:59</th>\n",
       "      <td>0</td>\n",
       "      <td>577</td>\n",
       "      <td>150</td>\n",
       "      <td>0.740035</td>\n",
       "      <td>0.259965</td>\n",
       "    </tr>\n",
       "  </tbody>\n",
       "</table>\n",
       "</div>"
      ],
      "text/plain": [
       "                SystemCodeNumber  Capacity  Occupancy  OccupancyRate  \\\n",
       "LastUpdated                                                            \n",
       "10/4/2016 7:59                 0       577         61       0.894281   \n",
       "10/4/2016 8:25                 0       577         64       0.889081   \n",
       "10/4/2016 8:59                 0       577         80       0.861352   \n",
       "10/4/2016 9:32                 0       577        107       0.814558   \n",
       "10/4/2016 9:59                 0       577        150       0.740035   \n",
       "\n",
       "                AvailabilityRate  \n",
       "LastUpdated                       \n",
       "10/4/2016 7:59          0.105719  \n",
       "10/4/2016 8:25          0.110919  \n",
       "10/4/2016 8:59          0.138648  \n",
       "10/4/2016 9:32          0.185442  \n",
       "10/4/2016 9:59          0.259965  "
      ]
     },
     "execution_count": 129,
     "metadata": {},
     "output_type": "execute_result"
    }
   ],
   "source": [
    "data.head()"
   ]
  },
  {
   "cell_type": "code",
   "execution_count": 130,
   "metadata": {},
   "outputs": [
    {
     "data": {
      "image/png": "[encoded data removed]",
      "text/plain": [
       "<Figure size 432x288 with 5 Axes>"
      ]
     },
     "metadata": {
      "needs_background": "light"
     },
     "output_type": "display_data"
    }
   ],
   "source": [
    "from matplotlib import pyplot\n",
    "# load dataset\n",
    "values = data.values\n",
    "# specify columns to plot\n",
    "groups = [0, 1, 2, 3, 4]\n",
    "i = 1\n",
    "# plot each column\n",
    "pyplot.figure()\n",
    "for group in groups:\n",
    "\tpyplot.subplot(len(groups), 1, i)\n",
    "\tpyplot.plot(values[:, group])\n",
    "\tpyplot.title(data.columns[group], y=0.5, loc='right')\n",
    "\ti += 1\n",
    "pyplot.show()"
   ]
  },
  {
   "cell_type": "code",
   "execution_count": 131,
   "metadata": {},
   "outputs": [],
   "source": [
    "# convert series to supervised learning\n",
    "def series_to_supervised(data, n_in=1, n_out=1, dropnan=True):\n",
    "\tn_vars = 1 if type(data) is list else data.shape[1]\n",
    "\tdf = DataFrame(data)\n",
    "\tcols, names = list(), list()\n",
    "\t# input sequence (t-n, ... t-1)\n",
    "\tfor i in range(n_in, 0, -1):\n",
    "\t\tcols.append(df.shift(i))\n",
    "\t\tnames += [('var%d(t-%d)' % (j+1, i)) for j in range(n_vars)]\n",
    "\t# forecast sequence (t, t+1, ... t+n)\n",
    "\tfor i in range(0, n_out):\n",
    "\t\tcols.append(df.shift(-i))\n",
    "\t\tif i == 0:\n",
    "\t\t\tnames += [('var%d(t)' % (j+1)) for j in range(n_vars)]\n",
    "\t\telse:\n",
    "\t\t\tnames += [('var%d(t+%d)' % (j+1, i)) for j in range(n_vars)]\n",
    "\t# put it all together\n",
    "\tagg = concat(cols, axis=1)\n",
    "\tagg.columns = names\n",
    "\t# drop rows with NaN values\n",
    "\tif dropnan:\n",
    "\t\tagg.dropna(inplace=True)\n",
    "\treturn agg"
   ]
  },
  {
   "cell_type": "code",
   "execution_count": 132,
   "metadata": {},
   "outputs": [],
   "source": [
    "values = data.values"
   ]
  },
  {
   "cell_type": "code",
   "execution_count": 133,
   "metadata": {},
   "outputs": [],
   "source": [
    "from sklearn.preprocessing import MinMaxScaler"
   ]
  },
  {
   "cell_type": "code",
   "execution_count": 134,
   "metadata": {},
   "outputs": [
    {
     "name": "stdout",
     "output_type": "stream",
     "text": [
      "   var1(t-1)  var2(t-1)  var3(t-1)  var4(t-1)  var5(t-1)   var5(t)\n",
      "1        0.0   0.080135   0.015917   0.884324   0.115676  0.120590\n",
      "2        0.0   0.080135   0.016609   0.879410   0.120590  0.146799\n",
      "3        0.0   0.080135   0.020300   0.853201   0.146799  0.191027\n",
      "4        0.0   0.080135   0.026528   0.808973   0.191027  0.261464\n",
      "5        0.0   0.080135   0.036448   0.738536   0.261464  0.305692\n"
     ]
    }
   ],
   "source": [
    "# ensure all data is float\n",
    "values = values.astype('float32')\n",
    "# normalize features\n",
    "scaler = MinMaxScaler(feature_range=(0, 1))\n",
    "scaled = scaler.fit_transform(values)\n",
    "# frame as supervised learning\n",
    "reframed = series_to_supervised(scaled, 1, 1)\n",
    "# drop columns we don't want to predict\n",
    "reframed.drop(reframed.columns[[5,6,7,8]], axis=1, inplace=True)\n",
    "print(reframed.head())"
   ]
  },
  {
   "cell_type": "code",
   "execution_count": 135,
   "metadata": {},
   "outputs": [
    {
     "name": "stdout",
     "output_type": "stream",
     "text": [
      "(25000, 1, 5) (25000,) (10716, 1, 5) (10716,)\n"
     ]
    }
   ],
   "source": [
    "# split into train and test sets\n",
    "values = reframed.values\n",
    "n_train_hours = 1000 * 25\n",
    "train = values[:n_train_hours, :]\n",
    "test = values[n_train_hours:, :]\n",
    "# split into input and outputs\n",
    "train_X, train_y = train[:, :-1], train[:, -1]\n",
    "test_X, test_y = test[:, :-1], test[:, -1]\n",
    "# reshape input to be 3D [samples, timesteps, features]\n",
    "train_X = train_X.reshape((train_X.shape[0], 1, train_X.shape[1]))\n",
    "test_X = test_X.reshape((test_X.shape[0], 1, test_X.shape[1]))\n",
    "print(train_X.shape, train_y.shape, test_X.shape, test_y.shape)"
   ]
  },
  {
   "cell_type": "code",
   "execution_count": 136,
   "metadata": {},
   "outputs": [],
   "source": [
    "from sklearn.metrics import mean_squared_error\n",
    "from keras.models import Sequential\n",
    "from keras.layers import Dense\n",
    "from keras.layers import LSTM\n",
    "from keras.layers import Dropout\n"
   ]
  },
  {
   "cell_type": "code",
   "execution_count": 149,
   "metadata": {},
   "outputs": [
    {
     "name": "stdout",
     "output_type": "stream",
     "text": [
      "Train on 25000 samples, validate on 10716 samples\n",
      "Epoch 1/100\n",
      " - 4s - loss: 0.2009 - val_loss: 0.0842\n",
      "Epoch 2/100\n",
      " - 2s - loss: 0.1189 - val_loss: 0.0409\n",
      "Epoch 3/100\n",
      " - 2s - loss: 0.1075 - val_loss: 0.0450\n",
      "Epoch 4/100\n",
      " - 2s - loss: 0.0984 - val_loss: 0.0435\n",
      "Epoch 5/100\n",
      " - 2s - loss: 0.0931 - val_loss: 0.0490\n",
      "Epoch 6/100\n",
      " - 2s - loss: 0.0894 - val_loss: 0.0485\n",
      "Epoch 7/100\n",
      " - 2s - loss: 0.0874 - val_loss: 0.0505\n",
      "Epoch 8/100\n",
      " - 2s - loss: 0.0865 - val_loss: 0.0529\n",
      "Epoch 9/100\n",
      " - 2s - loss: 0.0851 - val_loss: 0.0489\n",
      "Epoch 10/100\n",
      " - 2s - loss: 0.0855 - val_loss: 0.0481\n",
      "Epoch 11/100\n",
      " - 2s - loss: 0.0847 - val_loss: 0.0525\n",
      "Epoch 12/100\n",
      " - 2s - loss: 0.0840 - val_loss: 0.0497\n",
      "Epoch 13/100\n",
      " - 2s - loss: 0.0839 - val_loss: 0.0494\n",
      "Epoch 14/100\n",
      " - 2s - loss: 0.0842 - val_loss: 0.0527\n",
      "Epoch 15/100\n",
      " - 2s - loss: 0.0831 - val_loss: 0.0546\n",
      "Epoch 16/100\n",
      " - 2s - loss: 0.0827 - val_loss: 0.0509\n",
      "Epoch 17/100\n",
      " - 2s - loss: 0.0824 - val_loss: 0.0499\n",
      "Epoch 18/100\n",
      " - 2s - loss: 0.0831 - val_loss: 0.0551\n",
      "Epoch 19/100\n",
      " - 2s - loss: 0.0830 - val_loss: 0.0536\n",
      "Epoch 20/100\n",
      " - 2s - loss: 0.0831 - val_loss: 0.0550\n",
      "Epoch 21/100\n",
      " - 2s - loss: 0.0819 - val_loss: 0.0575\n",
      "Epoch 22/100\n",
      " - 2s - loss: 0.0822 - val_loss: 0.0517\n",
      "Epoch 23/100\n",
      " - 2s - loss: 0.0818 - val_loss: 0.0493\n",
      "Epoch 24/100\n",
      " - 2s - loss: 0.0826 - val_loss: 0.0593\n",
      "Epoch 25/100\n",
      " - 2s - loss: 0.0823 - val_loss: 0.0544\n",
      "Epoch 26/100\n",
      " - 2s - loss: 0.0822 - val_loss: 0.0503\n",
      "Epoch 27/100\n",
      " - 2s - loss: 0.0821 - val_loss: 0.0490\n",
      "Epoch 28/100\n",
      " - 2s - loss: 0.0820 - val_loss: 0.0566\n",
      "Epoch 29/100\n",
      " - 2s - loss: 0.0818 - val_loss: 0.0564\n",
      "Epoch 30/100\n",
      " - 2s - loss: 0.0819 - val_loss: 0.0533\n",
      "Epoch 31/100\n",
      " - 2s - loss: 0.0812 - val_loss: 0.0510\n",
      "Epoch 32/100\n",
      " - 2s - loss: 0.0814 - val_loss: 0.0507\n",
      "Epoch 33/100\n",
      " - 2s - loss: 0.0811 - val_loss: 0.0567\n",
      "Epoch 34/100\n",
      " - 2s - loss: 0.0810 - val_loss: 0.0580\n",
      "Epoch 35/100\n",
      " - 2s - loss: 0.0813 - val_loss: 0.0597\n",
      "Epoch 36/100\n",
      " - 2s - loss: 0.0808 - val_loss: 0.0506\n",
      "Epoch 37/100\n",
      " - 2s - loss: 0.0815 - val_loss: 0.0554\n",
      "Epoch 38/100\n",
      " - 2s - loss: 0.0805 - val_loss: 0.0513\n",
      "Epoch 39/100\n",
      " - 2s - loss: 0.0812 - val_loss: 0.0555\n",
      "Epoch 40/100\n",
      " - 2s - loss: 0.0810 - val_loss: 0.0577\n",
      "Epoch 41/100\n",
      " - 2s - loss: 0.0812 - val_loss: 0.0543\n",
      "Epoch 42/100\n",
      " - 2s - loss: 0.0818 - val_loss: 0.0551\n",
      "Epoch 43/100\n",
      " - 2s - loss: 0.0813 - val_loss: 0.0552\n",
      "Epoch 44/100\n",
      " - 2s - loss: 0.0805 - val_loss: 0.0462\n",
      "Epoch 45/100\n",
      " - 2s - loss: 0.0811 - val_loss: 0.0489\n",
      "Epoch 46/100\n",
      " - 2s - loss: 0.0805 - val_loss: 0.0502\n",
      "Epoch 47/100\n",
      " - 2s - loss: 0.0809 - val_loss: 0.0489\n",
      "Epoch 48/100\n",
      " - 2s - loss: 0.0810 - val_loss: 0.0504\n",
      "Epoch 49/100\n",
      " - 2s - loss: 0.0812 - val_loss: 0.0475\n",
      "Epoch 50/100\n",
      " - 2s - loss: 0.0804 - val_loss: 0.0549\n",
      "Epoch 51/100\n",
      " - 2s - loss: 0.0805 - val_loss: 0.0512\n",
      "Epoch 52/100\n",
      " - 2s - loss: 0.0804 - val_loss: 0.0475\n",
      "Epoch 53/100\n",
      " - 2s - loss: 0.0807 - val_loss: 0.0473\n",
      "Epoch 54/100\n",
      " - 2s - loss: 0.0800 - val_loss: 0.0498\n",
      "Epoch 55/100\n",
      " - 3s - loss: 0.0809 - val_loss: 0.0506\n",
      "Epoch 56/100\n",
      " - 3s - loss: 0.0812 - val_loss: 0.0473\n",
      "Epoch 57/100\n",
      " - 3s - loss: 0.0806 - val_loss: 0.0503\n",
      "Epoch 58/100\n",
      " - 3s - loss: 0.0811 - val_loss: 0.0502\n",
      "Epoch 59/100\n",
      " - 2s - loss: 0.0806 - val_loss: 0.0549\n",
      "Epoch 60/100\n",
      " - 3s - loss: 0.0804 - val_loss: 0.0561\n",
      "Epoch 61/100\n",
      " - 2s - loss: 0.0808 - val_loss: 0.0497\n",
      "Epoch 62/100\n",
      " - 2s - loss: 0.0801 - val_loss: 0.0490\n",
      "Epoch 63/100\n",
      " - 2s - loss: 0.0805 - val_loss: 0.0488\n",
      "Epoch 64/100\n",
      " - 3s - loss: 0.0807 - val_loss: 0.0466\n",
      "Epoch 65/100\n",
      " - 2s - loss: 0.0804 - val_loss: 0.0461\n",
      "Epoch 66/100\n",
      " - 2s - loss: 0.0799 - val_loss: 0.0454\n",
      "Epoch 67/100\n",
      " - 2s - loss: 0.0802 - val_loss: 0.0445\n",
      "Epoch 68/100\n",
      " - 2s - loss: 0.0802 - val_loss: 0.0501\n",
      "Epoch 69/100\n",
      " - 2s - loss: 0.0800 - val_loss: 0.0472\n",
      "Epoch 70/100\n",
      " - 2s - loss: 0.0803 - val_loss: 0.0493\n",
      "Epoch 71/100\n",
      " - 2s - loss: 0.0799 - val_loss: 0.0466\n",
      "Epoch 72/100\n",
      " - 2s - loss: 0.0799 - val_loss: 0.0460\n",
      "Epoch 73/100\n",
      " - 3s - loss: 0.0809 - val_loss: 0.0470\n",
      "Epoch 74/100\n",
      " - 3s - loss: 0.0800 - val_loss: 0.0479\n",
      "Epoch 75/100\n",
      " - 3s - loss: 0.0799 - val_loss: 0.0445\n",
      "Epoch 76/100\n",
      " - 3s - loss: 0.0795 - val_loss: 0.0476\n",
      "Epoch 77/100\n",
      " - 3s - loss: 0.0809 - val_loss: 0.0440\n",
      "Epoch 78/100\n",
      " - 3s - loss: 0.0798 - val_loss: 0.0443\n",
      "Epoch 79/100\n",
      " - 3s - loss: 0.0801 - val_loss: 0.0421\n",
      "Epoch 80/100\n",
      " - 3s - loss: 0.0803 - val_loss: 0.0491\n",
      "Epoch 81/100\n",
      " - 3s - loss: 0.0804 - val_loss: 0.0436\n",
      "Epoch 82/100\n",
      " - 3s - loss: 0.0802 - val_loss: 0.0498\n",
      "Epoch 83/100\n",
      " - 3s - loss: 0.0798 - val_loss: 0.0463\n",
      "Epoch 84/100\n",
      " - 3s - loss: 0.0800 - val_loss: 0.0436\n",
      "Epoch 85/100\n",
      " - 2s - loss: 0.0806 - val_loss: 0.0446\n",
      "Epoch 86/100\n",
      " - 3s - loss: 0.0804 - val_loss: 0.0435\n",
      "Epoch 87/100\n",
      " - 3s - loss: 0.0800 - val_loss: 0.0447\n",
      "Epoch 88/100\n",
      " - 3s - loss: 0.0799 - val_loss: 0.0439\n",
      "Epoch 89/100\n",
      " - 3s - loss: 0.0798 - val_loss: 0.0463\n",
      "Epoch 90/100\n",
      " - 3s - loss: 0.0799 - val_loss: 0.0448\n",
      "Epoch 91/100\n",
      " - 3s - loss: 0.0797 - val_loss: 0.0448\n",
      "Epoch 92/100\n",
      " - 3s - loss: 0.0806 - val_loss: 0.0434\n",
      "Epoch 93/100\n",
      " - 2s - loss: 0.0801 - val_loss: 0.0449\n",
      "Epoch 94/100\n",
      " - 3s - loss: 0.0799 - val_loss: 0.0438\n",
      "Epoch 95/100\n",
      " - 3s - loss: 0.0799 - val_loss: 0.0438\n",
      "Epoch 96/100\n",
      " - 3s - loss: 0.0799 - val_loss: 0.0457\n",
      "Epoch 97/100\n",
      " - 3s - loss: 0.0801 - val_loss: 0.0416\n",
      "Epoch 98/100\n",
      " - 3s - loss: 0.0803 - val_loss: 0.0404\n",
      "Epoch 99/100\n",
      " - 3s - loss: 0.0805 - val_loss: 0.0448\n",
      "Epoch 100/100\n",
      " - 3s - loss: 0.0804 - val_loss: 0.0430\n"
     ]
    }
   ],
   "source": [
    "# design network\n",
    "model = Sequential()\n",
    "model.add(LSTM(64,activation='relu',return_sequences=True, input_shape=(train_X.shape[1], train_X.shape[2])))\n",
    "model.add(Dropout(0.5))\n",
    "model.add(LSTM(64, activation='relu',return_sequences=True))\n",
    "model.add(Dropout(0.5))\n",
    "model.add(LSTM(32, activation='relu'))\n",
    "model.add(Dropout(0.5))\n",
    "model.add(Dense(1))\n",
    "model.compile(loss='mae', optimizer='adam')\n",
    "# fit network\n",
    "history = model.fit(train_X, train_y, epochs=100, batch_size=72, validation_data=(test_X, test_y), verbose=2, shuffle=False)\n"
   ]
  },
  {
   "cell_type": "code",
   "execution_count": 138,
   "metadata": {},
   "outputs": [
    {
     "name": "stdout",
     "output_type": "stream",
     "text": [
      "Model: \"sequential_13\"\n",
      "_________________________________________________________________\n",
      "Layer (type)                 Output Shape              Param #   \n",
      "=================================================================\n",
      "lstm_30 (LSTM)               (None, 1, 128)            68608     \n",
      "_________________________________________________________________\n",
      "dropout_16 (Dropout)         (None, 1, 128)            0         \n",
      "_________________________________________________________________\n",
      "lstm_31 (LSTM)               (None, 1, 64)             49408     \n",
      "_________________________________________________________________\n",
      "dropout_17 (Dropout)         (None, 1, 64)             0         \n",
      "_________________________________________________________________\n",
      "lstm_32 (LSTM)               (None, 32)                12416     \n",
      "_________________________________________________________________\n",
      "dropout_18 (Dropout)         (None, 32)                0         \n",
      "_________________________________________________________________\n",
      "dense_9 (Dense)              (None, 1)                 33        \n",
      "=================================================================\n",
      "Total params: 130,465\n",
      "Trainable params: 130,465\n",
      "Non-trainable params: 0\n",
      "_________________________________________________________________\n"
     ]
    }
   ],
   "source": [
    "model.summary()"
   ]
  },
  {
   "cell_type": "code",
   "execution_count": 139,
   "metadata": {},
   "outputs": [
    {
     "data": {
      "image/png": "[encoded data removed]",
      "text/plain": [
       "<Figure size 432x288 with 1 Axes>"
      ]
     },
     "metadata": {
      "needs_background": "light"
     },
     "output_type": "display_data"
    }
   ],
   "source": [
    "# plot history\n",
    "pyplot.plot(history.history['loss'], label='train')\n",
    "pyplot.plot(history.history['val_loss'], label='test')\n",
    "pyplot.legend()\n",
    "pyplot.show()"
   ]
  },
  {
   "cell_type": "code",
   "execution_count": 140,
   "metadata": {},
   "outputs": [],
   "source": [
    "from math import sqrt\n"
   ]
  },
  {
   "cell_type": "code",
   "execution_count": 141,
   "metadata": {},
   "outputs": [
    {
     "name": "stdout",
     "output_type": "stream",
     "text": [
      "Test RMSE: 0.069\n"
     ]
    }
   ],
   "source": [
    "# make a prediction\n",
    "yhat = model.predict(test_X)\n",
    "# calculate RMSE\n",
    "rmse = sqrt(mean_squared_error(test_y, yhat))\n",
    "print('Test RMSE: %.3f' % rmse)"
   ]
  },
  {
   "cell_type": "code",
   "execution_count": 142,
   "metadata": {},
   "outputs": [],
   "source": [
    "from sklearn.metrics import median_absolute_error,mean_absolute_error,mean_squared_error,mean_squared_log_error"
   ]
  },
  {
   "cell_type": "code",
   "execution_count": 143,
   "metadata": {},
   "outputs": [
    {
     "data": {
      "text/plain": [
       "0.04681279"
      ]
     },
     "execution_count": 143,
     "metadata": {},
     "output_type": "execute_result"
    }
   ],
   "source": [
    "mean_absolute_error(test_y, yhat)"
   ]
  },
  {
   "cell_type": "code",
   "execution_count": 144,
   "metadata": {},
   "outputs": [
    {
     "data": {
      "text/plain": [
       "0.004826914"
      ]
     },
     "execution_count": 144,
     "metadata": {},
     "output_type": "execute_result"
    }
   ],
   "source": [
    "mean_squared_error(test_y, yhat)"
   ]
  },
  {
   "cell_type": "code",
   "execution_count": 145,
   "metadata": {},
   "outputs": [
    {
     "data": {
      "text/plain": [
       "0.03587836"
      ]
     },
     "execution_count": 145,
     "metadata": {},
     "output_type": "execute_result"
    }
   ],
   "source": [
    "median_absolute_error(test_y, yhat)"
   ]
  },
  {
   "cell_type": "code",
   "execution_count": 146,
   "metadata": {},
   "outputs": [
    {
     "data": {
      "text/plain": [
       "0.002546247"
      ]
     },
     "execution_count": 146,
     "metadata": {},
     "output_type": "execute_result"
    }
   ],
   "source": [
    "mean_squared_log_error(test_y, yhat)"
   ]
  },
  {
   "cell_type": "code",
   "execution_count": null,
   "metadata": {},
   "outputs": [],
   "source": []
  },
  {
   "cell_type": "code",
   "execution_count": null,
   "metadata": {},
   "outputs": [],
   "source": []
  }
 ],
 "metadata": {
  "kernelspec": {
   "display_name": "Python 3",
   "language": "python",
   "name": "python3"
  },
  "language_info": {
   "codemirror_mode": {
    "name": "ipython",
    "version": 3
   },
   "file_extension": ".py",
   "mimetype": "text/x-python",
   "name": "python",
   "nbconvert_exporter": "python",
   "pygments_lexer": "ipython3",
   "version": "3.7.7"
  }
 },
 "nbformat": 4,
 "nbformat_minor": 4
}
